{
 "metadata": {
  "language_info": {
   "codemirror_mode": {
    "name": "ipython",
    "version": 3
   },
   "file_extension": ".py",
   "mimetype": "text/x-python",
   "name": "python",
   "nbconvert_exporter": "python",
   "pygments_lexer": "ipython3",
   "version": "3.8.5-final"
  },
  "orig_nbformat": 2,
  "kernelspec": {
   "name": "python3",
   "display_name": "Python 3",
   "language": "python"
  }
 },
 "nbformat": 4,
 "nbformat_minor": 2,
 "cells": [
  {
   "cell_type": "code",
   "execution_count": 1,
   "metadata": {},
   "outputs": [],
   "source": [
    "from PIL import Image, ImageDraw\n",
    "from face_recognition import load_image_file, face_locations"
   ]
  },
  {
   "cell_type": "code",
   "execution_count": 3,
   "metadata": {},
   "outputs": [
    {
     "output_type": "stream",
     "name": "stdout",
     "text": [
      "Number of faces: 38\n"
     ]
    }
   ],
   "source": [
    "# load img to numpy array\n",
    "img_array = load_image_file(\"images/worldleaders.jpg\")\n",
    "\n",
    "# Generates list of faces where each face contains two points to define a bounding box around the face\n",
    "locations = face_locations(img_array)\n",
    "\n",
    "# number of entries are the number of faces\n",
    "n_faces = len(locations)\n",
    "print(\"Number of faces:\", n_faces)"
   ]
  },
  {
   "cell_type": "code",
   "execution_count": 57,
   "metadata": {},
   "outputs": [],
   "source": [
    "# to PIL image object\n",
    "img = Image.fromarray(img_array)\n",
    "# to PIL draw object\n",
    "draw = ImageDraw.Draw(img)"
   ]
  },
  {
   "cell_type": "code",
   "execution_count": 58,
   "metadata": {},
   "outputs": [],
   "source": [
    "# loop over bounding boxes\n",
    "for y0,x1,y1,x0 in locations:\n",
    "    # draw box around faces\n",
    "    draw.rectangle([(x0,y0), (x1,y1)], outline=\"red\")"
   ]
  },
  {
   "cell_type": "code",
   "execution_count": 59,
   "metadata": {},
   "outputs": [],
   "source": [
    "img.show()"
   ]
  },
  {
   "cell_type": "code",
   "execution_count": null,
   "metadata": {},
   "outputs": [],
   "source": []
  }
 ]
}