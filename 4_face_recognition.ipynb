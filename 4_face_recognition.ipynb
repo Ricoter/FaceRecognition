{
 "metadata": {
  "language_info": {
   "codemirror_mode": {
    "name": "ipython",
    "version": 3
   },
   "file_extension": ".py",
   "mimetype": "text/x-python",
   "name": "python",
   "nbconvert_exporter": "python",
   "pygments_lexer": "ipython3",
   "version": "3.8.5-final"
  },
  "orig_nbformat": 2,
  "kernelspec": {
   "name": "python3",
   "display_name": "Python 3",
   "language": "python"
  }
 },
 "nbformat": 4,
 "nbformat_minor": 2,
 "cells": [
  {
   "cell_type": "code",
   "execution_count": 1,
   "metadata": {},
   "outputs": [],
   "source": [
    "from face_recognition import load_image_file, face_encodings\n",
    "from numpy.linalg import norm"
   ]
  },
  {
   "cell_type": "code",
   "execution_count": 2,
   "metadata": {},
   "outputs": [],
   "source": [
    "# load img to numpy array, note that each image should contain exactly one face from the front\n",
    "labeled_faces = {\n",
    "    \"Merkel\" : load_image_file(\"images/merkel.jpg\"),\n",
    "    \"Rutte\" : load_image_file(\"images/rutte.jpg\"),\n",
    "    \"Trump\" : load_image_file(\"images/trump.jpg\"),\n",
    "}\n",
    "\n",
    "# get the encodings of the labeled faces\n",
    "labeled_encodings = {name : face_encodings(x)[0] for name, x in labeled_faces.items()}"
   ]
  },
  {
   "cell_type": "code",
   "execution_count": 3,
   "metadata": {},
   "outputs": [],
   "source": [
    "unlabeled_faces = {\n",
    "    \"unknown 1\" : load_image_file(\"images/unknown_1.jpg\"),\n",
    "    \"unknown 2\" : load_image_file(\"images/unknown_2.jpg\"),\n",
    "    \"unknown 3\" : load_image_file(\"images/unknown_3.jpg\"),\n",
    "}\n",
    "\n",
    "# get the encodings of the labeled faces\n",
    "unlabeled_encodings = {name : face_encodings(x)[0] for name, x in unlabeled_faces.items()}"
   ]
  },
  {
   "cell_type": "code",
   "execution_count": 4,
   "metadata": {},
   "outputs": [
    {
     "output_type": "stream",
     "name": "stdout",
     "text": [
      "unknown 1 -> Trump\nunknown 2 -> Merkel\nunknown 3 -> Rutte\n"
     ]
    }
   ],
   "source": [
    "# find match between unlabeled and labeled encodings\n",
    "\n",
    "# loop over each unlabeled face\n",
    "for xlabel, x in unlabeled_encodings.items():\n",
    "    # loop over each labeled face\n",
    "    for ylabel, y in labeled_encodings.items():\n",
    "        # find eaclidean distanc between the encoding vectors where 0.6 is an acceptable distance\n",
    "        if norm(x-y) < 0.6: \n",
    "            print(xlabel, '->', ylabel)"
   ]
  },
  {
   "cell_type": "code",
   "execution_count": 5,
   "metadata": {},
   "outputs": [],
   "source": [
    "from face_recognition import face_locations\n",
    "from PIL import Image, ImageDraw, ImageFont"
   ]
  },
  {
   "cell_type": "code",
   "execution_count": 6,
   "metadata": {},
   "outputs": [
    {
     "output_type": "stream",
     "name": "stdout",
     "text": [
      "locations=38, encodings=38\n"
     ]
    }
   ],
   "source": [
    "img_array = load_image_file(\"images/worldleaders.jpg\")\n",
    "locations = face_locations(img_array, number_of_times_to_upsample=2)\n",
    "encodings = face_encodings(img_array, known_face_locations=locations)\n",
    "if len(encodings) != len(locations):\n",
    "    print(\"Warning: not all recognized faces have encodings, increase number of times to upsample\")\n",
    "print(\"locations={}, encodings={}\".format(len(locations), len(encodings)))"
   ]
  },
  {
   "cell_type": "code",
   "execution_count": 7,
   "metadata": {},
   "outputs": [],
   "source": [
    "img = Image.fromarray(img_array)\n",
    "draw = ImageDraw.Draw(img)\n",
    "\n",
    "# loop over each unlabeled face\n",
    "for i, x in enumerate(encodings):\n",
    "    # loop over each labeled face\n",
    "    for ylabel, y in labeled_encodings.items():\n",
    "        # find eaclidean distanc between the encoding vectors where 0.6 is an acceptable distance\n",
    "        if norm(x-y) < 0.6: \n",
    "            # loop over bounding boxes\n",
    "            y0,x1,y1,x0 = locations[i]\n",
    "            # draw box around faces\n",
    "            draw.rectangle([(x0,y0), (x1,y1)], outline=\"red\")\n",
    "            draw.text((x0,y1), ylabel, fill=\"lightgreen\")"
   ]
  },
  {
   "cell_type": "code",
   "execution_count": 8,
   "metadata": {},
   "outputs": [],
   "source": [
    "img.show()"
   ]
  },
  {
   "cell_type": "code",
   "execution_count": null,
   "metadata": {},
   "outputs": [],
   "source": []
  }
 ]
}