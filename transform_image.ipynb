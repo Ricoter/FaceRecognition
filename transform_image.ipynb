{
 "metadata": {
  "language_info": {
   "codemirror_mode": {
    "name": "ipython",
    "version": 3
   },
   "file_extension": ".py",
   "mimetype": "text/x-python",
   "name": "python",
   "nbconvert_exporter": "python",
   "pygments_lexer": "ipython3",
   "version": "3.8.5-final"
  },
  "orig_nbformat": 2,
  "kernelspec": {
   "name": "python3",
   "display_name": "Python 3",
   "language": "python"
  }
 },
 "nbformat": 4,
 "nbformat_minor": 2,
 "cells": [
  {
   "cell_type": "code",
   "execution_count": 297,
   "metadata": {},
   "outputs": [],
   "source": [
    "from PIL import Image, ImageDraw\n",
    "import numpy as np"
   ]
  },
  {
   "cell_type": "code",
   "execution_count": 311,
   "metadata": {},
   "outputs": [
    {
     "output_type": "execute_result",
     "data": {
      "text/plain": [
       "(456, 107)"
      ]
     },
     "metadata": {},
     "execution_count": 311
    }
   ],
   "source": [
    "# load images to PIL\n",
    "face = Image.open(\"images/frontal.jpg\")\n",
    "mask = Image.open(\"images/mustache.png\")\n",
    "mask = mask.crop(mask.getbbox())\n",
    "# create draw object for face image\n",
    "draw = ImageDraw.Draw(face)\n",
    "mask.size"
   ]
  },
  {
   "cell_type": "code",
   "execution_count": 299,
   "metadata": {},
   "outputs": [],
   "source": [
    "mask = np.array(mask)"
   ]
  },
  {
   "cell_type": "code",
   "execution_count": 300,
   "metadata": {},
   "outputs": [],
   "source": [
    "mask = Image.fromarray(mask[:,:,:])\n"
   ]
  },
  {
   "cell_type": "code",
   "execution_count": 301,
   "metadata": {},
   "outputs": [],
   "source": [
    "def find_coeffs(pa, pb):\n",
    "    \n",
    "    matrix = []\n",
    "    for p1, p2 in zip(pa, pb):\n",
    "        matrix.append([p1[0], p1[1], 1, 0, 0, 0, -p2[0]*p1[0], -p2[0]*p1[1]])\n",
    "        matrix.append([0, 0, 0, p1[0], p1[1], 1, -p2[1]*p1[0], -p2[1]*p1[1]])\n",
    "\n",
    "    A = np.matrix(matrix, dtype=np.float)\n",
    "    B = np.array(pb).reshape(8)\n",
    "\n",
    "    res = np.dot(np.linalg.inv(A.T * A) * A.T, B)\n",
    "    return np.array(res).reshape(8)\n",
    "\n",
    "def smallestBoxSize(coordinates):\n",
    "    x, y = zip(*coordinates)\n",
    "    return max(x)-min(x), max(y)-min(y)\n"
   ]
  },
  {
   "cell_type": "code",
   "execution_count": 302,
   "metadata": {},
   "outputs": [],
   "source": [
    "lx, ly = mask.size\n",
    "src = [(0,0), (0,ly), (lx, 0), (lx,ly)]\n",
    "# dst = [(0,0), (0,ly*4), (lx,0), (lx,ly)]\n",
    "# mapping = find_coeffs(dst, src)\n",
    "# new_size = smallestBoxSize(dst)\n",
    "# mask = mask.transform(new_size, Image.PERSPECTIVE, mapping)\n",
    "# mask = mask.crop(mask.getbbox())\n",
    "\n",
    "def transform4point(img, src, dst):\n",
    "    lx, ly = img.size\n",
    "    mapping = find_coeffs(dst, src)\n",
    "    # new_size = smallestBoxSize(dst)\n",
    "    img = img.transform((lx, ly), Image.PERSPECTIVE, mapping)\n",
    "    img = img.crop(img.getbbox())\n",
    "    lx, ly = img.size\n",
    "    img = img.resize((lx*3,round(ly*1.3)))\n",
    "    return img"
   ]
  },
  {
   "cell_type": "code",
   "execution_count": null,
   "metadata": {},
   "outputs": [],
   "source": []
  },
  {
   "cell_type": "code",
   "execution_count": 44,
   "metadata": {},
   "outputs": [],
   "source": []
  },
  {
   "cell_type": "code",
   "execution_count": 303,
   "metadata": {},
   "outputs": [],
   "source": [
    "from face_recognition import face_landmarks"
   ]
  },
  {
   "source": [],
   "cell_type": "markdown",
   "metadata": {}
  },
  {
   "cell_type": "code",
   "execution_count": 304,
   "metadata": {},
   "outputs": [],
   "source": [
    "modelsize = [\"small\", \"large\"][0]\n",
    "landmarks = face_landmarks(np.array(face), model=modelsize)\n",
    "\n",
    "i=0\n",
    "def dst_quad(landmark, model=\"large\"):\n",
    "    if model == \"large\":\n",
    "        a = landmark[\"top_lip\"][1]\n",
    "        b = landmark[\"top_lip\"][5]\n",
    "        c = landmark[\"bottom_lip\"][5]\n",
    "        d = landmark[\"bottom_lip\"][1]\n",
    "    elif model == \"small\":\n",
    "        return 0,0,0,0\n",
    "    else:\n",
    "        raise ValueError(\"Cannot determine type of model; use \\\"small\\\" or \\\"large\\\"\")\n",
    "    return a,b,c,d\n",
    "a,b,c,d = dst_quad(landmarks[0], model=modelsize)\n",
    "# draw.line([a,b,c,d])\n",
    "for land in landmarks:\n",
    "    for name, points in land.items():\n",
    "        draw.line(points, fill='red', width=2)\n",
    "        for xy in points:\n",
    "            draw.text(xy,f\"{i}\")\n",
    "            if i in [49, 53, 65, 61]:\n",
    "                print(i,xy,points)\n",
    "\n",
    "            i+=1\n",
    "face.show()\n"
   ]
  },
  {
   "cell_type": "code",
   "execution_count": 307,
   "metadata": {},
   "outputs": [
    {
     "output_type": "execute_result",
     "data": {
      "text/plain": [
       "((166, 197), (297, 198), (231, 266))"
      ]
     },
     "metadata": {},
     "execution_count": 307
    }
   ],
   "source": [
    "# get quadrilateral from triangle based on frontal face\n",
    "def triangle_points(landmark, model=\"small\"):\n",
    "    left = landmark[\"left_eye\"][0]\n",
    "    right = landmark[\"right_eye\"][0]\n",
    "    if model==\"small\":\n",
    "        bottom = landmark[\"nose_tip\"][0]\n",
    "    elif model==\"large\":\n",
    "        bottom = landmark[\"nose_tip\"][2]\n",
    "    else:\n",
    "        raise ValueError(\"Cannot determine type of model; use \\\"small\\\" or \\\"large\\\"\")\n",
    "    return left, right, bottom\n",
    "\n",
    "triple = triangle_points(landmarks[0], model=modelsize)\n",
    "triple"
   ]
  },
  {
   "cell_type": "code",
   "execution_count": 336,
   "metadata": {},
   "outputs": [
    {
     "output_type": "execute_result",
     "data": {
      "text/plain": [
       "((0.8189697805773185, 0.18103021942268144),\n",
       " (53.233035737525704, 12.49108514016502),\n",
       " (11.766964262474296, 56.50891485983498))"
      ]
     },
     "metadata": {},
     "execution_count": 336
    }
   ],
   "source": [
    "# dx is de afstand van het buitenoog tot het punt\n",
    "lx, ly = mask.size\n",
    "r = lx / ly\n",
    "k = - 69 / 65 \n",
    "y0 = 69\n",
    "x = -y0 * r / ( k * r - 1 )\n",
    "y = y0 + k * x\n",
    "dx, dy = 65-x, 69-y\n",
    "(x/65, y/69), (x, y), (dx, dy)"
   ]
  },
  {
   "cell_type": "code",
   "execution_count": 340,
   "metadata": {},
   "outputs": [
    {
     "output_type": "execute_result",
     "data": {
      "text/plain": [
       "0.18103021942268147"
      ]
     },
     "metadata": {},
     "execution_count": 340
    }
   ],
   "source": [
    "# sr is de ratio van buitenoog tot de neus\n",
    "sk = (dx**2+y**2)**.5   # schuin klein\n",
    "sg = (69**2+65**2)**.5  # schuin groot\n",
    "sr = sk/sg  # schuin ratio\n",
    "sr = 0.18"
   ]
  },
  {
   "cell_type": "code",
   "execution_count": 341,
   "metadata": {},
   "outputs": [
    {
     "output_type": "execute_result",
     "data": {
      "text/plain": [
       "[{'nose_tip': [(231, 266)],\n",
       "  'left_eye': [(166, 197), (203, 200)],\n",
       "  'right_eye': [(297, 198), (259, 200)]}]"
      ]
     },
     "metadata": {},
     "execution_count": 341
    }
   ],
   "source": [
    "landmarks"
   ]
  },
  {
   "cell_type": "code",
   "execution_count": 344,
   "metadata": {},
   "outputs": [
    {
     "output_type": "execute_result",
     "data": {
      "text/plain": [
       "0.3096569542756394"
      ]
     },
     "metadata": {},
     "execution_count": 344
    }
   ],
   "source": [
    "# ro is de ratio van het buitenoog naar het binnenoog\n",
    "gem_oog = 38 # gemiddelde afstand tussen binnen en buiten oog\n",
    "ro = dx/38 #\n",
    "ro = 0.31"
   ]
  },
  {
   "cell_type": "code",
   "execution_count": null,
   "metadata": {},
   "outputs": [],
   "source": [
    "def midPoint(a, b, ratio)\n",
    "    \"\"\"\n",
    "    returns the point in between a and b at a distance of ratio*(b-a)\n",
    "    :param a: point to start the walk\n",
    "    :param b: point to walk to\n",
    "    :return: point between a and b, when you walked :ratio: part of total\n",
    "    \"\"\"\n",
    "    ax, ay = a\n",
    "    bx, by = b\n",
    "    dx = (bx-ax)*ratio\n",
    "    dy = (by-ay)*ratio\n",
    "    return ax+dx, ay+dy"
   ]
  },
  {
   "cell_type": "code",
   "execution_count": null,
   "metadata": {},
   "outputs": [],
   "source": [
    "def quadrilateral(landmark):\n",
    "    \"\"\"\n",
    "    Find convenient quadrilateral from 5 landmark points for transformation of mask\n",
    "    :param landmark: landmark points based on small or large model from face_recognition\n",
    "    :return: 4 xy tuples with corner values of quadrilateral [top_left, top_right, botton_left, bottom_right]\n",
    "    \"\"\"\n",
    "    lEyeOut, lEyeIn = landmark[\"left_eye\"]\n",
    "    rEyeOut, rEyeIn = landmark[\"right_eye\"]\n",
    "    noseTip = landmark[\"nose_tip\"]\n",
    "    if len(noseTip) == 1:\n",
    "        noseTip = noseTip[0]\n",
    "    elif len(noseTip) == 5:\n",
    "        noseTip = noseTip[2]\n",
    "    else:\n",
    "        raise ValueError(\"Doesn't recognize landmarks; len(nose_tip) should be 1 or 5\")\n",
    "    \n",
    "    topLeft     = midPoint(a=lEyeOut, b=lEyeIn,  ratio=0.31)\n",
    "    topRight    = midPoint(a=rEyeOut, b=rEyeIn,  ratio=0.31)\n",
    "    bottomLeft  = midPoint(a=lEyeOut, b=noseTip, ratio=0.18)\n",
    "    bottomRight = midPoint(a=rEyeOut, b=noseTip, ratio=0.18)\n",
    "    return topLeft, topRight, bottomLeft, bottomRight"
   ]
  },
  {
   "cell_type": "code",
   "execution_count": 317,
   "metadata": {},
   "outputs": [
    {
     "output_type": "error",
     "ename": "SyntaxError",
     "evalue": "invalid syntax (<ipython-input-317-a82cd07cf3b4>, line 1)",
     "traceback": [
      "\u001b[0;36m  File \u001b[0;32m\"<ipython-input-317-a82cd07cf3b4>\"\u001b[0;36m, line \u001b[0;32m1\u001b[0m\n\u001b[0;31m    def triangle_to_square(triple)\u001b[0m\n\u001b[0m                                  ^\u001b[0m\n\u001b[0;31mSyntaxError\u001b[0m\u001b[0;31m:\u001b[0m invalid syntax\n"
     ]
    }
   ],
   "source": [
    "def triangle_to_square(triple)\n",
    "    \n"
   ]
  },
  {
   "cell_type": "code",
   "execution_count": 277,
   "metadata": {},
   "outputs": [],
   "source": [
    "# face.show()\n"
   ]
  },
  {
   "cell_type": "code",
   "execution_count": 278,
   "metadata": {},
   "outputs": [],
   "source": [
    "# lEyeOut, lEyeIn = landmarks[0][\"left_eye\"]\n",
    "# rEyeOut, rEyeIn = landmarks[0][\"right_eye\"]\n",
    "nose = landmarks[0][\"nose_tip\"][2]"
   ]
  },
  {
   "cell_type": "code",
   "execution_count": 279,
   "metadata": {},
   "outputs": [],
   "source": [
    "dst = [a,c,b,d]\n",
    "\n",
    "x,y = zip(*dst)\n",
    "xmin,ymin = min(x), min(y)\n",
    "dst = [(xi-xmin,yi-ymin) for xi,yi in dst]\n"
   ]
  },
  {
   "cell_type": "code",
   "execution_count": 280,
   "metadata": {},
   "outputs": [],
   "source": [
    "mask = transform4point(img=mask,src=src,dst=dst)"
   ]
  },
  {
   "cell_type": "code",
   "execution_count": 281,
   "metadata": {},
   "outputs": [],
   "source": [
    "lx, ly = mask.size"
   ]
  },
  {
   "cell_type": "code",
   "execution_count": 282,
   "metadata": {},
   "outputs": [],
   "source": [
    "face.paste(\n",
    "    mask,\n",
    "    (nose[0] - lx//2, nose[1]),\n",
    "    mask)"
   ]
  },
  {
   "cell_type": "code",
   "execution_count": 283,
   "metadata": {},
   "outputs": [],
   "source": [
    "face.show()"
   ]
  },
  {
   "cell_type": "code",
   "execution_count": 97,
   "metadata": {},
   "outputs": [
    {
     "output_type": "execute_result",
     "data": {
      "text/plain": [
       "(414, 702)"
      ]
     },
     "metadata": {},
     "execution_count": 97
    }
   ],
   "source": []
  },
  {
   "cell_type": "code",
   "execution_count": null,
   "metadata": {},
   "outputs": [],
   "source": []
  }
 ]
}