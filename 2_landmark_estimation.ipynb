{
 "metadata": {
  "language_info": {
   "codemirror_mode": {
    "name": "ipython",
    "version": 3
   },
   "file_extension": ".py",
   "mimetype": "text/x-python",
   "name": "python",
   "nbconvert_exporter": "python",
   "pygments_lexer": "ipython3",
   "version": "3.8.5-final"
  },
  "orig_nbformat": 2,
  "kernelspec": {
   "name": "python3",
   "display_name": "Python 3",
   "language": "python"
  }
 },
 "nbformat": 4,
 "nbformat_minor": 2,
 "cells": [
  {
   "cell_type": "code",
   "execution_count": 9,
   "metadata": {},
   "outputs": [],
   "source": [
    "# PIL is the python image library which is very usefull for reading images and drawing on top of an image\n",
    "from PIL import Image, ImageDraw\n",
    "\n",
    "# face_recognition is a wrapper that uses dlib (open-source face recognition library)\n",
    "# there are some nice examples on their github page\n",
    "from face_recognition import load_image_file, face_landmarks"
   ]
  },
  {
   "cell_type": "code",
   "execution_count": 23,
   "metadata": {},
   "outputs": [
    {
     "output_type": "execute_result",
     "data": {
      "text/plain": [
       "dict_items([('chin', [(221, 607), (221, 612), (221, 617), (222, 621), (223, 626), (226, 630), (230, 633), (234, 636), (239, 637), (243, 636), (247, 634), (251, 631), (253, 627), (255, 622), (256, 618), (256, 613), (257, 608)]), ('left_eyebrow', [(225, 605), (227, 603), (231, 602), (234, 603), (238, 604)]), ('right_eyebrow', [(242, 604), (245, 603), (249, 603), (252, 604), (255, 607)]), ('nose_bridge', [(240, 606), (240, 609), (240, 613), (240, 616)]), ('nose_tip', [(236, 618), (238, 619), (240, 619), (241, 619), (243, 618)]), ('left_eye', [(229, 607), (231, 606), (233, 605), (235, 607), (233, 608), (231, 608)]), ('right_eye', [(244, 607), (246, 606), (249, 606), (251, 607), (249, 608), (246, 608)]), ('top_lip', [(232, 623), (235, 623), (237, 622), (239, 623), (241, 622), (243, 623), (246, 624), (245, 624), (241, 624), (239, 624), (237, 624), (233, 624)]), ('bottom_lip', [(246, 624), (243, 626), (241, 626), (239, 626), (237, 626), (235, 625), (232, 623), (233, 624), (237, 624), (239, 624), (241, 624), (245, 624)])])"
      ]
     },
     "metadata": {},
     "execution_count": 23
    }
   ],
   "source": [
    "# load image to numpy array\n",
    "img_array = load_image_file(\"images/worldleaders.jpg\")\n",
    "\n",
    "# get all landmarks of all faces\n",
    "# this wil be a list of all faces and each face becomes a dict\n",
    "landmarks = face_landmarks(img_array)\n",
    "\n",
    "# dict of the landmarks of the first face\n",
    "landmarks[0].items()"
   ]
  },
  {
   "cell_type": "code",
   "execution_count": 11,
   "metadata": {},
   "outputs": [
    {
     "output_type": "stream",
     "name": "stdout",
     "text": [
      "number of faces:  38\n"
     ]
    }
   ],
   "source": [
    "# each face is an entry is the list\n",
    "n_faces = len(landmarks)\n",
    "print(\"number of faces: \", n_faces)"
   ]
  },
  {
   "cell_type": "code",
   "execution_count": 14,
   "metadata": {},
   "outputs": [],
   "source": [
    "# to PIL object so we can draw on the image\n",
    "img = Image.fromarray(img_array)\n",
    "\n",
    "# create a PIL draw object to draw on the image\n",
    "draw = ImageDraw.Draw(img)"
   ]
  },
  {
   "cell_type": "code",
   "execution_count": 27,
   "metadata": {},
   "outputs": [],
   "source": [
    "# loop over each face\n",
    "for face in landmarks:\n",
    "    # loop over the facial features, the name contains a string of the feature\n",
    "    # and the points are the pixels that contain the landmark positions\n",
    "    for name, points in face.items():\n",
    "        # draw a line between the given points\n",
    "        draw.line(points, fill='red', width=2)"
   ]
  },
  {
   "cell_type": "code",
   "execution_count": 28,
   "metadata": {},
   "outputs": [],
   "source": [
    "img.show()"
   ]
  },
  {
   "cell_type": "code",
   "execution_count": 29,
   "metadata": {},
   "outputs": [],
   "source": []
  }
 ]
}