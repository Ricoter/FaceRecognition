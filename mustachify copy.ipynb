{
 "metadata": {
  "language_info": {
   "codemirror_mode": {
    "name": "ipython",
    "version": 3
   },
   "file_extension": ".py",
   "mimetype": "text/x-python",
   "name": "python",
   "nbconvert_exporter": "python",
   "pygments_lexer": "ipython3",
   "version": "3.8.5-final"
  },
  "orig_nbformat": 2,
  "kernelspec": {
   "name": "python3",
   "display_name": "Python 3",
   "language": "python"
  }
 },
 "nbformat": 4,
 "nbformat_minor": 2,
 "cells": [
  {
   "cell_type": "code",
   "execution_count": 1,
   "metadata": {},
   "outputs": [],
   "source": [
    "from PIL import Image, ImageDraw\n",
    "from face_recognition import load_image_file, face_landmarks"
   ]
  },
  {
   "cell_type": "code",
   "execution_count": 2,
   "metadata": {},
   "outputs": [],
   "source": [
    "img_array = load_image_file(\"images/thispersondoesnotexist.jpg\")\n",
    "landmarks = face_landmarks(img_array,  model=\"small\")"
   ]
  },
  {
   "cell_type": "code",
   "execution_count": 3,
   "metadata": {},
   "outputs": [],
   "source": [
    "img = Image.fromarray(img_array)\n",
    "draw = ImageDraw.Draw(img)\n",
    "mustache = Image.open(\"images/mustache.png\")"
   ]
  },
  {
   "cell_type": "code",
   "execution_count": 4,
   "metadata": {},
   "outputs": [],
   "source": [
    "def x_small(coordinates):\n",
    "    return min(coordinates)[0]\n",
    "    \n",
    "def x_large(coordinates):\n",
    "    return max(coordinates)[0]"
   ]
  },
  {
   "cell_type": "code",
   "execution_count": 5,
   "metadata": {},
   "outputs": [],
   "source": [
    "from math import ceil\n",
    "\n",
    "for face in landmarks:\n",
    "    eyeWidth = x_large(face[\"right_eye\"]) - x_small(face[\"left_eye\"])\n",
    "    nosetip = face[\"nose_tip\"][0]\n",
    "\n",
    "    x, y = mustache.size\n",
    "    ratio = eyeWidth / x * 1.5\n",
    "    new_x, new_y = x*ratio, y*ratio\n",
    "    mask = mustache.resize((ceil(new_x), ceil(new_y)))\n",
    "    pos = nosetip[0]-round(new_x/2), nosetip[1] - round(new_y/2.4)\n",
    "    img.paste(mask, pos, mask)"
   ]
  },
  {
   "cell_type": "code",
   "execution_count": 6,
   "metadata": {},
   "outputs": [],
   "source": [
    "img.show()"
   ]
  },
  {
   "cell_type": "code",
   "execution_count": 7,
   "metadata": {},
   "outputs": [],
   "source": [
    "def triangle(landmarks):\n",
    "    \"\"\"\n",
    "    Find 3 corner points to transform mustache\n",
    "    :param landmarks: all landmarks\n",
    "    :return: triple of outer eyes and nose tip\n",
    "    \"\"\"\n",
    "    a = min(landmarks[\"left_eye\"])\n",
    "    b = max(landmarks[\"right_eye\"])\n",
    "    c = landmarks[\"nose_tip\"][0]\n",
    "    return [a, b, c]\n",
    "\n",
    "\n",
    "\n",
    "\n"
   ]
  },
  {
   "cell_type": "code",
   "execution_count": 8,
   "metadata": {},
   "outputs": [],
   "source": [
    "import cv2 as cv\n",
    "from cv2 import getAffineTransform, warpAffine, imread, samples, imshow\n",
    "import numpy as np"
   ]
  },
  {
   "cell_type": "code",
   "execution_count": 9,
   "metadata": {},
   "outputs": [],
   "source": [
    "# src = cv.imread(\"images/thispersondoesnotexist.jpg\")\n",
    "# if src is None:\n",
    "#     print('Could not open or find the image:', args.input)\n",
    "#     exit(0)\n",
    "\n",
    "\n",
    "def transform(mustache_img, dstTri):\n",
    "    src = np.array(mustache_img)\n",
    "    src = cv.imread(\"images/thispersondoesnotexist.jpg\")\n",
    "\n",
    "    srcTri = [[0,0], [src.shape[0], 0], [src.shape[0]/2, src.shape[1]]]\n",
    "\n",
    "    dstTri = np.array(dstTri).astype(np.float32)\n",
    "    srcTri = np.array(srcTri).astype(np.float32)\n",
    "\n",
    "    warp_mat = getAffineTransform(srcTri, dstTri)\n",
    "    warp_dst = warpAffine(src, warp_mat, (src.shape[1], src.shape[0]))\n",
    "    return warp_dst\n",
    "\n",
    "transformed_img = transform(mustache, triangle(landmarks[0]))"
   ]
  },
  {
   "cell_type": "code",
   "execution_count": 10,
   "metadata": {},
   "outputs": [],
   "source": [
    "    # cv.imshow(\"transformed img\", transformed_img)\n",
    "    # cv.waitKey(0)"
   ]
  },
  {
   "cell_type": "code",
   "execution_count": 11,
   "metadata": {},
   "outputs": [],
   "source": [
    "def cv2pil(img):\n",
    "    img = cv.cvtColor(img, cv.COLOR_BGR2RGB)\n",
    "    return Image.fromarray(img)\n",
    "\n",
    "mus = cv2pil(transformed_img)"
   ]
  },
  {
   "cell_type": "code",
   "execution_count": 12,
   "metadata": {},
   "outputs": [],
   "source": [
    "mus.show()"
   ]
  },
  {
   "cell_type": "code",
   "execution_count": null,
   "metadata": {},
   "outputs": [],
   "source": []
  }
 ]
}