{
 "metadata": {
  "language_info": {
   "codemirror_mode": {
    "name": "ipython",
    "version": 3
   },
   "file_extension": ".py",
   "mimetype": "text/x-python",
   "name": "python",
   "nbconvert_exporter": "python",
   "pygments_lexer": "ipython3",
   "version": "3.8.5-final"
  },
  "orig_nbformat": 2,
  "kernelspec": {
   "name": "python3",
   "display_name": "Python 3",
   "language": "python"
  }
 },
 "nbformat": 4,
 "nbformat_minor": 2,
 "cells": [
  {
   "cell_type": "code",
   "execution_count": 2,
   "metadata": {},
   "outputs": [],
   "source": [
    "from face_recognition import load_image_file, face_encodings"
   ]
  },
  {
   "cell_type": "code",
   "execution_count": 13,
   "metadata": {},
   "outputs": [
    {
     "output_type": "stream",
     "name": "stdout",
     "text": [
      "Number of faces: 1\n"
     ]
    }
   ],
   "source": [
    "# load img to numpy array\n",
    "img_array = load_image_file(\"merkel.jpg\")\n",
    "\n",
    "# Generates a list of all faces in the image where each face is represented as a list of 128 face encodings that are found by a pretrainend CNN. Note that it will only find faces where its landmarkpoints are visible.\n",
    "encodings = face_encodings(img_array)\n",
    "\n",
    "n_faces = len(encodings)\n",
    "print(\"Number of faces:\", n_faces)"
   ]
  },
  {
   "cell_type": "code",
   "execution_count": 12,
   "metadata": {},
   "outputs": [
    {
     "output_type": "stream",
     "name": "stdout",
     "text": [
      "[-0.09176856  0.0165144   0.03035191 -0.04388164 -0.2053276  -0.0116589\n  0.03294277 -0.11226757  0.17133224 -0.14155787  0.10916091 -0.02160053\n -0.20005992  0.10121001  0.02416498  0.21570654 -0.1678037  -0.13875939\n -0.18222542 -0.05361594 -0.1116883   0.09764781 -0.03075879  0.02786329\n -0.07053262 -0.31141168 -0.08199414 -0.08313926  0.0758875   0.00587416\n -0.03817859  0.09882136 -0.17667864 -0.03661356  0.11896862  0.03257269\n -0.09246271 -0.08191686  0.21097356  0.06968752 -0.22268216 -0.03759692\n  0.06980092  0.16649035  0.2357899  -0.01022354 -0.00844053 -0.16395493\n  0.12089149 -0.26017275 -0.02992419  0.0925658   0.06647409  0.09821255\n  0.03154489 -0.10895649  0.03870777  0.10003898 -0.22022507  0.0060263\n  0.05781536 -0.14987393 -0.10002339 -0.03128034  0.22896428  0.05870683\n -0.10243789 -0.1545483   0.16033036 -0.15674371 -0.06856614  0.0564618\n -0.05273711 -0.15234753 -0.24346575 -0.01833119  0.45792377  0.07979225\n -0.18864848  0.01129103 -0.09438767 -0.12713014  0.06361267  0.08664433\n -0.02621415 -0.16470309 -0.03601887  0.01787334  0.27157947 -0.1081007\n  0.05072408  0.17121765 -0.00885256 -0.00879641 -0.02265975  0.10636374\n -0.14245598 -0.03619689 -0.10009094 -0.1336744   0.08437747 -0.00520803\n  0.00762369  0.11673872 -0.20511422  0.20979041 -0.02204966 -0.09556758\n  0.05664391 -0.11618043 -0.06821705 -0.02137657  0.1796052  -0.19067076\n  0.20227832  0.13742602 -0.08654856  0.13015755  0.0122399   0.03976537\n -0.05086237 -0.00889226 -0.18781425 -0.10485581  0.1263676  -0.01441455\n  0.02088284 -0.0247721 ]\n"
     ]
    }
   ],
   "source": [
    "if n_faces > 0:\n",
    "    print(encodings[0])"
   ]
  }
 ]
}