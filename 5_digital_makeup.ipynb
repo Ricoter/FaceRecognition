{
 "metadata": {
  "language_info": {
   "codemirror_mode": {
    "name": "ipython",
    "version": 3
   },
   "file_extension": ".py",
   "mimetype": "text/x-python",
   "name": "python",
   "nbconvert_exporter": "python",
   "pygments_lexer": "ipython3",
   "version": "3.8.5-final"
  },
  "orig_nbformat": 2,
  "kernelspec": {
   "name": "python3",
   "display_name": "Python 3",
   "language": "python"
  }
 },
 "nbformat": 4,
 "nbformat_minor": 2,
 "cells": [
  {
   "cell_type": "code",
   "execution_count": 1,
   "metadata": {},
   "outputs": [],
   "source": [
    "from PIL import Image, ImageDraw\n",
    "from face_recognition import load_image_file, face_landmarks"
   ]
  },
  {
   "cell_type": "code",
   "execution_count": 6,
   "metadata": {},
   "outputs": [
    {
     "output_type": "execute_result",
     "data": {
      "text/plain": [
       "dict_items([('chin', [(221, 607), (221, 612), (221, 617), (222, 621), (223, 626), (226, 630), (230, 633), (234, 636), (239, 637), (243, 636), (247, 634), (251, 631), (253, 627), (255, 622), (256, 618), (256, 613), (257, 608)]), ('left_eyebrow', [(225, 605), (227, 603), (231, 602), (234, 603), (238, 604)]), ('right_eyebrow', [(242, 604), (245, 603), (249, 603), (252, 604), (255, 607)]), ('nose_bridge', [(240, 606), (240, 609), (240, 613), (240, 616)]), ('nose_tip', [(236, 618), (238, 619), (240, 619), (241, 619), (243, 618)]), ('left_eye', [(229, 607), (231, 606), (233, 605), (235, 607), (233, 608), (231, 608)]), ('right_eye', [(244, 607), (246, 606), (249, 606), (251, 607), (249, 608), (246, 608)]), ('top_lip', [(232, 623), (235, 623), (237, 622), (239, 623), (241, 622), (243, 623), (246, 624), (245, 624), (241, 624), (239, 624), (237, 624), (233, 624)]), ('bottom_lip', [(246, 624), (243, 626), (241, 626), (239, 626), (237, 626), (235, 625), (232, 623), (233, 624), (237, 624), (239, 624), (241, 624), (245, 624)])])"
      ]
     },
     "metadata": {},
     "execution_count": 6
    }
   ],
   "source": [
    "img_array = load_image_file(\"worldleaders.jpg\")\n",
    "landmarks = face_landmarks(img_array)\n",
    "landmarks[0].items()"
   ]
  },
  {
   "cell_type": "code",
   "execution_count": 77,
   "metadata": {},
   "outputs": [],
   "source": [
    "img = Image.fromarray(img_array)\n",
    "draw = ImageDraw.Draw(img)\n",
    "mustache = Image.open(\"mustache.png\")"
   ]
  },
  {
   "cell_type": "code",
   "execution_count": 78,
   "metadata": {},
   "outputs": [],
   "source": [
    "for face in landmarks:\n",
    "    # draw.line(face)\n",
    "    xmouth = list(zip(*face[\"top_lip\"]))[0]\n",
    "    mouthwidth = max(xmouth) - min(xmouth)\n",
    "    x, y = mustache.size\n",
    "    ratio = mouthwidth / x * 2\n",
    "    mask = mustache.resize((int(x*ratio)+1, int(y*ratio)+1))\n",
    "    pos = face[\"nose_tip\"][0][0]-int(mouthwidth/1.4), face[\"nose_tip\"][0][1] - int(mouthwidth/4)\n",
    "    img.paste(mask, pos, mask)"
   ]
  },
  {
   "cell_type": "code",
   "execution_count": 79,
   "metadata": {},
   "outputs": [],
   "source": [
    "img.show()"
   ]
  },
  {
   "cell_type": "code",
   "execution_count": 12,
   "metadata": {},
   "outputs": [],
   "source": [
    "mustache.show()"
   ]
  },
  {
   "cell_type": "code",
   "execution_count": 43,
   "metadata": {},
   "outputs": [
    {
     "output_type": "execute_result",
     "data": {
      "text/plain": [
       "[(675, 678, 680, 682, 684, 687, 690, 689, 684, 682, 680, 676),\n",
       " (488, 487, 486, 487, 486, 487, 488, 488, 488, 488, 488, 488)]"
      ]
     },
     "metadata": {},
     "execution_count": 43
    }
   ],
   "source": [
    "list(zip(*face[\"top_lip\"]))"
   ]
  },
  {
   "cell_type": "code",
   "execution_count": null,
   "metadata": {},
   "outputs": [],
   "source": []
  }
 ]
}